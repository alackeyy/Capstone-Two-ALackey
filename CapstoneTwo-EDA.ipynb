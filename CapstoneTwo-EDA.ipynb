{
 "cells": [
  {
   "cell_type": "markdown",
   "id": "7ba2a0c5",
   "metadata": {},
   "source": [
    "# Capstone Two - EDA "
   ]
  },
  {
   "cell_type": "code",
   "execution_count": 1,
   "id": "cb7aeb22",
   "metadata": {},
   "outputs": [],
   "source": [
    "#import the necessary packages"
   ]
  },
  {
   "cell_type": "code",
   "execution_count": 2,
   "id": "24b8912c",
   "metadata": {},
   "outputs": [],
   "source": [
    "import pandas as pd\n",
    "import matplotlib.pyplot as plt\n",
    "import seaborn as sns\n",
    "import numpy as np"
   ]
  },
  {
   "cell_type": "code",
   "execution_count": 3,
   "id": "2955ee21",
   "metadata": {},
   "outputs": [],
   "source": [
    "rawsalarydata = pd.read_csv('ds_salaries.csv')"
   ]
  },
  {
   "cell_type": "code",
   "execution_count": 4,
   "id": "b5e0af24",
   "metadata": {
    "scrolled": true
   },
   "outputs": [
    {
     "data": {
      "text/html": [
       "<div>\n",
       "<style scoped>\n",
       "    .dataframe tbody tr th:only-of-type {\n",
       "        vertical-align: middle;\n",
       "    }\n",
       "\n",
       "    .dataframe tbody tr th {\n",
       "        vertical-align: top;\n",
       "    }\n",
       "\n",
       "    .dataframe thead th {\n",
       "        text-align: right;\n",
       "    }\n",
       "</style>\n",
       "<table border=\"1\" class=\"dataframe\">\n",
       "  <thead>\n",
       "    <tr style=\"text-align: right;\">\n",
       "      <th></th>\n",
       "      <th>Unnamed: 0</th>\n",
       "      <th>work_year</th>\n",
       "      <th>experience_level</th>\n",
       "      <th>employment_type</th>\n",
       "      <th>job_title</th>\n",
       "      <th>salary</th>\n",
       "      <th>salary_currency</th>\n",
       "      <th>salary_in_usd</th>\n",
       "      <th>employee_residence</th>\n",
       "      <th>remote_ratio</th>\n",
       "      <th>company_location</th>\n",
       "      <th>company_size</th>\n",
       "    </tr>\n",
       "  </thead>\n",
       "  <tbody>\n",
       "    <tr>\n",
       "      <th>0</th>\n",
       "      <td>0</td>\n",
       "      <td>2020</td>\n",
       "      <td>MI</td>\n",
       "      <td>FT</td>\n",
       "      <td>Data Scientist</td>\n",
       "      <td>70000</td>\n",
       "      <td>EUR</td>\n",
       "      <td>79833</td>\n",
       "      <td>DE</td>\n",
       "      <td>0</td>\n",
       "      <td>DE</td>\n",
       "      <td>L</td>\n",
       "    </tr>\n",
       "    <tr>\n",
       "      <th>1</th>\n",
       "      <td>1</td>\n",
       "      <td>2020</td>\n",
       "      <td>SE</td>\n",
       "      <td>FT</td>\n",
       "      <td>Machine Learning Scientist</td>\n",
       "      <td>260000</td>\n",
       "      <td>USD</td>\n",
       "      <td>260000</td>\n",
       "      <td>JP</td>\n",
       "      <td>0</td>\n",
       "      <td>JP</td>\n",
       "      <td>S</td>\n",
       "    </tr>\n",
       "    <tr>\n",
       "      <th>2</th>\n",
       "      <td>2</td>\n",
       "      <td>2020</td>\n",
       "      <td>SE</td>\n",
       "      <td>FT</td>\n",
       "      <td>Big Data Engineer</td>\n",
       "      <td>85000</td>\n",
       "      <td>GBP</td>\n",
       "      <td>109024</td>\n",
       "      <td>GB</td>\n",
       "      <td>50</td>\n",
       "      <td>GB</td>\n",
       "      <td>M</td>\n",
       "    </tr>\n",
       "    <tr>\n",
       "      <th>3</th>\n",
       "      <td>3</td>\n",
       "      <td>2020</td>\n",
       "      <td>MI</td>\n",
       "      <td>FT</td>\n",
       "      <td>Product Data Analyst</td>\n",
       "      <td>20000</td>\n",
       "      <td>USD</td>\n",
       "      <td>20000</td>\n",
       "      <td>HN</td>\n",
       "      <td>0</td>\n",
       "      <td>HN</td>\n",
       "      <td>S</td>\n",
       "    </tr>\n",
       "    <tr>\n",
       "      <th>4</th>\n",
       "      <td>4</td>\n",
       "      <td>2020</td>\n",
       "      <td>SE</td>\n",
       "      <td>FT</td>\n",
       "      <td>Machine Learning Engineer</td>\n",
       "      <td>150000</td>\n",
       "      <td>USD</td>\n",
       "      <td>150000</td>\n",
       "      <td>US</td>\n",
       "      <td>50</td>\n",
       "      <td>US</td>\n",
       "      <td>L</td>\n",
       "    </tr>\n",
       "  </tbody>\n",
       "</table>\n",
       "</div>"
      ],
      "text/plain": [
       "   Unnamed: 0  work_year experience_level employment_type  \\\n",
       "0           0       2020               MI              FT   \n",
       "1           1       2020               SE              FT   \n",
       "2           2       2020               SE              FT   \n",
       "3           3       2020               MI              FT   \n",
       "4           4       2020               SE              FT   \n",
       "\n",
       "                    job_title  salary salary_currency  salary_in_usd  \\\n",
       "0              Data Scientist   70000             EUR          79833   \n",
       "1  Machine Learning Scientist  260000             USD         260000   \n",
       "2           Big Data Engineer   85000             GBP         109024   \n",
       "3        Product Data Analyst   20000             USD          20000   \n",
       "4   Machine Learning Engineer  150000             USD         150000   \n",
       "\n",
       "  employee_residence  remote_ratio company_location company_size  \n",
       "0                 DE             0               DE            L  \n",
       "1                 JP             0               JP            S  \n",
       "2                 GB            50               GB            M  \n",
       "3                 HN             0               HN            S  \n",
       "4                 US            50               US            L  "
      ]
     },
     "execution_count": 4,
     "metadata": {},
     "output_type": "execute_result"
    }
   ],
   "source": [
    "rawsalarydata.head()"
   ]
  },
  {
   "cell_type": "code",
   "execution_count": 5,
   "id": "f5241fee",
   "metadata": {},
   "outputs": [],
   "source": [
    "# first thing I noticed is the extra 'Unamed' column that we need to drop"
   ]
  },
  {
   "cell_type": "code",
   "execution_count": 6,
   "id": "1b3e3828",
   "metadata": {},
   "outputs": [],
   "source": [
    "clean_salary_data = rawsalarydata.drop('Unnamed: 0', axis=1)"
   ]
  },
  {
   "cell_type": "code",
   "execution_count": 7,
   "id": "925a8213",
   "metadata": {
    "scrolled": false
   },
   "outputs": [
    {
     "data": {
      "text/html": [
       "<div>\n",
       "<style scoped>\n",
       "    .dataframe tbody tr th:only-of-type {\n",
       "        vertical-align: middle;\n",
       "    }\n",
       "\n",
       "    .dataframe tbody tr th {\n",
       "        vertical-align: top;\n",
       "    }\n",
       "\n",
       "    .dataframe thead th {\n",
       "        text-align: right;\n",
       "    }\n",
       "</style>\n",
       "<table border=\"1\" class=\"dataframe\">\n",
       "  <thead>\n",
       "    <tr style=\"text-align: right;\">\n",
       "      <th></th>\n",
       "      <th>work_year</th>\n",
       "      <th>experience_level</th>\n",
       "      <th>employment_type</th>\n",
       "      <th>job_title</th>\n",
       "      <th>salary</th>\n",
       "      <th>salary_currency</th>\n",
       "      <th>salary_in_usd</th>\n",
       "      <th>employee_residence</th>\n",
       "      <th>remote_ratio</th>\n",
       "      <th>company_location</th>\n",
       "      <th>company_size</th>\n",
       "    </tr>\n",
       "  </thead>\n",
       "  <tbody>\n",
       "    <tr>\n",
       "      <th>0</th>\n",
       "      <td>2020</td>\n",
       "      <td>MI</td>\n",
       "      <td>FT</td>\n",
       "      <td>Data Scientist</td>\n",
       "      <td>70000</td>\n",
       "      <td>EUR</td>\n",
       "      <td>79833</td>\n",
       "      <td>DE</td>\n",
       "      <td>0</td>\n",
       "      <td>DE</td>\n",
       "      <td>L</td>\n",
       "    </tr>\n",
       "    <tr>\n",
       "      <th>1</th>\n",
       "      <td>2020</td>\n",
       "      <td>SE</td>\n",
       "      <td>FT</td>\n",
       "      <td>Machine Learning Scientist</td>\n",
       "      <td>260000</td>\n",
       "      <td>USD</td>\n",
       "      <td>260000</td>\n",
       "      <td>JP</td>\n",
       "      <td>0</td>\n",
       "      <td>JP</td>\n",
       "      <td>S</td>\n",
       "    </tr>\n",
       "    <tr>\n",
       "      <th>2</th>\n",
       "      <td>2020</td>\n",
       "      <td>SE</td>\n",
       "      <td>FT</td>\n",
       "      <td>Big Data Engineer</td>\n",
       "      <td>85000</td>\n",
       "      <td>GBP</td>\n",
       "      <td>109024</td>\n",
       "      <td>GB</td>\n",
       "      <td>50</td>\n",
       "      <td>GB</td>\n",
       "      <td>M</td>\n",
       "    </tr>\n",
       "    <tr>\n",
       "      <th>3</th>\n",
       "      <td>2020</td>\n",
       "      <td>MI</td>\n",
       "      <td>FT</td>\n",
       "      <td>Product Data Analyst</td>\n",
       "      <td>20000</td>\n",
       "      <td>USD</td>\n",
       "      <td>20000</td>\n",
       "      <td>HN</td>\n",
       "      <td>0</td>\n",
       "      <td>HN</td>\n",
       "      <td>S</td>\n",
       "    </tr>\n",
       "    <tr>\n",
       "      <th>4</th>\n",
       "      <td>2020</td>\n",
       "      <td>SE</td>\n",
       "      <td>FT</td>\n",
       "      <td>Machine Learning Engineer</td>\n",
       "      <td>150000</td>\n",
       "      <td>USD</td>\n",
       "      <td>150000</td>\n",
       "      <td>US</td>\n",
       "      <td>50</td>\n",
       "      <td>US</td>\n",
       "      <td>L</td>\n",
       "    </tr>\n",
       "  </tbody>\n",
       "</table>\n",
       "</div>"
      ],
      "text/plain": [
       "   work_year experience_level employment_type                   job_title  \\\n",
       "0       2020               MI              FT              Data Scientist   \n",
       "1       2020               SE              FT  Machine Learning Scientist   \n",
       "2       2020               SE              FT           Big Data Engineer   \n",
       "3       2020               MI              FT        Product Data Analyst   \n",
       "4       2020               SE              FT   Machine Learning Engineer   \n",
       "\n",
       "   salary salary_currency  salary_in_usd employee_residence  remote_ratio  \\\n",
       "0   70000             EUR          79833                 DE             0   \n",
       "1  260000             USD         260000                 JP             0   \n",
       "2   85000             GBP         109024                 GB            50   \n",
       "3   20000             USD          20000                 HN             0   \n",
       "4  150000             USD         150000                 US            50   \n",
       "\n",
       "  company_location company_size  \n",
       "0               DE            L  \n",
       "1               JP            S  \n",
       "2               GB            M  \n",
       "3               HN            S  \n",
       "4               US            L  "
      ]
     },
     "execution_count": 7,
     "metadata": {},
     "output_type": "execute_result"
    }
   ],
   "source": [
    "clean_salary_data.head()"
   ]
  },
  {
   "cell_type": "code",
   "execution_count": 8,
   "id": "2218cfc5",
   "metadata": {},
   "outputs": [],
   "source": [
    "# next I want a better picture of what is in each column to get a better idea of what might needing some cleaning up"
   ]
  },
  {
   "cell_type": "code",
   "execution_count": 9,
   "id": "75fde8c7",
   "metadata": {
    "scrolled": true
   },
   "outputs": [
    {
     "data": {
      "text/plain": [
       "array(['Data Scientist', 'Machine Learning Scientist',\n",
       "       'Big Data Engineer', 'Product Data Analyst',\n",
       "       'Machine Learning Engineer', 'Data Analyst', 'Lead Data Scientist',\n",
       "       'Business Data Analyst', 'Lead Data Engineer', 'Lead Data Analyst',\n",
       "       'Data Engineer', 'Data Science Consultant', 'BI Data Analyst',\n",
       "       'Director of Data Science', 'Research Scientist',\n",
       "       'Machine Learning Manager', 'Data Engineering Manager',\n",
       "       'Machine Learning Infrastructure Engineer', 'ML Engineer',\n",
       "       'AI Scientist', 'Computer Vision Engineer',\n",
       "       'Principal Data Scientist', 'Data Science Manager', 'Head of Data',\n",
       "       '3D Computer Vision Researcher', 'Data Analytics Engineer',\n",
       "       'Applied Data Scientist', 'Marketing Data Analyst',\n",
       "       'Cloud Data Engineer', 'Financial Data Analyst',\n",
       "       'Computer Vision Software Engineer',\n",
       "       'Director of Data Engineering', 'Data Science Engineer',\n",
       "       'Principal Data Engineer', 'Machine Learning Developer',\n",
       "       'Applied Machine Learning Scientist', 'Data Analytics Manager',\n",
       "       'Head of Data Science', 'Data Specialist', 'Data Architect',\n",
       "       'Finance Data Analyst', 'Principal Data Analyst',\n",
       "       'Big Data Architect', 'Staff Data Scientist', 'Analytics Engineer',\n",
       "       'ETL Developer', 'Head of Machine Learning', 'NLP Engineer',\n",
       "       'Lead Machine Learning Engineer', 'Data Analytics Lead'],\n",
       "      dtype=object)"
      ]
     },
     "execution_count": 9,
     "metadata": {},
     "output_type": "execute_result"
    }
   ],
   "source": [
    "clean_salary_data['job_title'].unique()"
   ]
  },
  {
   "cell_type": "code",
   "execution_count": 10,
   "id": "f1e5b5d0",
   "metadata": {},
   "outputs": [],
   "source": [
    "# some seem like they could be one in the same, will need to come back for some regrouping during preprocessing"
   ]
  },
  {
   "cell_type": "code",
   "execution_count": 11,
   "id": "314c0974",
   "metadata": {},
   "outputs": [
    {
     "data": {
      "text/plain": [
       "array([2020, 2021, 2022])"
      ]
     },
     "execution_count": 11,
     "metadata": {},
     "output_type": "execute_result"
    }
   ],
   "source": [
    "clean_salary_data['work_year'].unique()"
   ]
  },
  {
   "cell_type": "code",
   "execution_count": 12,
   "id": "da8481bb",
   "metadata": {},
   "outputs": [],
   "source": [
    "# no strange categories present or mistyped years"
   ]
  },
  {
   "cell_type": "code",
   "execution_count": 13,
   "id": "2275ccc6",
   "metadata": {},
   "outputs": [
    {
     "data": {
      "text/plain": [
       "array(['MI', 'SE', 'EN', 'EX'], dtype=object)"
      ]
     },
     "execution_count": 13,
     "metadata": {},
     "output_type": "execute_result"
    }
   ],
   "source": [
    "clean_salary_data['experience_level'].unique()"
   ]
  },
  {
   "cell_type": "code",
   "execution_count": 14,
   "id": "cc0196a9",
   "metadata": {},
   "outputs": [],
   "source": [
    "# original data set states these definitions:\n",
    "# MI - mid-level / intermediate\n",
    "# SE - senior-level\n",
    "# EN - entry-level / junior\n",
    "# EX - expert-level / Director\n",
    "# no strange categories or misspellings present, nothing to clean"
   ]
  },
  {
   "cell_type": "code",
   "execution_count": 15,
   "id": "f4993439",
   "metadata": {},
   "outputs": [
    {
     "data": {
      "text/plain": [
       "array(['FT', 'CT', 'PT', 'FL'], dtype=object)"
      ]
     },
     "execution_count": 15,
     "metadata": {},
     "output_type": "execute_result"
    }
   ],
   "source": [
    "clean_salary_data['employment_type'].unique()"
   ]
  },
  {
   "cell_type": "code",
   "execution_count": 16,
   "id": "a2d1274f",
   "metadata": {},
   "outputs": [],
   "source": [
    "# original data set states these definitions:\n",
    "# FT - Fulltime\n",
    "# CT - Contract\n",
    "# PT - Parttime\n",
    "# FL - Freelance\n",
    "# no strange categories present or misspellings, nothing to clean"
   ]
  },
  {
   "cell_type": "code",
   "execution_count": 17,
   "id": "a07b3083",
   "metadata": {},
   "outputs": [
    {
     "data": {
      "text/plain": [
       "[4000,\n",
       " 8000,\n",
       " 8760,\n",
       " 9272,\n",
       " 10000,\n",
       " 12000,\n",
       " 13400,\n",
       " 14000,\n",
       " 18000,\n",
       " 19000,\n",
       " 20000,\n",
       " 21000,\n",
       " 21600,\n",
       " 21844,\n",
       " 22000,\n",
       " 24000,\n",
       " 25000,\n",
       " 28500,\n",
       " 29000,\n",
       " 30000,\n",
       " 31000,\n",
       " 32000,\n",
       " 34000,\n",
       " 35000,\n",
       " 37000,\n",
       " 37456,\n",
       " 38400,\n",
       " 39600,\n",
       " 40000,\n",
       " 40900,\n",
       " 41000,\n",
       " 42000,\n",
       " 43200,\n",
       " 44000,\n",
       " 45000,\n",
       " 45760,\n",
       " 48000,\n",
       " 50000,\n",
       " 51400,\n",
       " 51999,\n",
       " 52000,\n",
       " 52500,\n",
       " 52800,\n",
       " 53000,\n",
       " 54000,\n",
       " 55000,\n",
       " 56000,\n",
       " 57000,\n",
       " 58000,\n",
       " 59000,\n",
       " 60000,\n",
       " 61300,\n",
       " 61500,\n",
       " 62000,\n",
       " 63900,\n",
       " 65000,\n",
       " 65720,\n",
       " 66500,\n",
       " 67000,\n",
       " 68000,\n",
       " 69000,\n",
       " 69600,\n",
       " 69999,\n",
       " 70000,\n",
       " 70500,\n",
       " 72000,\n",
       " 72500,\n",
       " 73000,\n",
       " 74000,\n",
       " 75000,\n",
       " 76760,\n",
       " 78000,\n",
       " 80000,\n",
       " 81000,\n",
       " 81666,\n",
       " 82500,\n",
       " 82900,\n",
       " 84900,\n",
       " 85000,\n",
       " 87000,\n",
       " 88000,\n",
       " 90000,\n",
       " 90320,\n",
       " 90700,\n",
       " 91000,\n",
       " 93000,\n",
       " 93150,\n",
       " 93700,\n",
       " 95000,\n",
       " 95550,\n",
       " 98000,\n",
       " 99000,\n",
       " 99050,\n",
       " 99100,\n",
       " 99360,\n",
       " 100000,\n",
       " 100800,\n",
       " 101570,\n",
       " 102000,\n",
       " 102100,\n",
       " 103000,\n",
       " 104890,\n",
       " 105000,\n",
       " 105400,\n",
       " 106000,\n",
       " 106260,\n",
       " 108000,\n",
       " 108800,\n",
       " 109000,\n",
       " 109280,\n",
       " 110000,\n",
       " 110500,\n",
       " 110925,\n",
       " 111775,\n",
       " 112000,\n",
       " 112300,\n",
       " 112900,\n",
       " 113000,\n",
       " 115000,\n",
       " 115500,\n",
       " 115934,\n",
       " 116000,\n",
       " 116150,\n",
       " 118000,\n",
       " 120000,\n",
       " 120160,\n",
       " 120500,\n",
       " 120600,\n",
       " 121000,\n",
       " 123000,\n",
       " 124190,\n",
       " 125000,\n",
       " 126000,\n",
       " 126500,\n",
       " 128875,\n",
       " 129000,\n",
       " 130000,\n",
       " 130800,\n",
       " 132000,\n",
       " 132320,\n",
       " 135000,\n",
       " 136000,\n",
       " 136600,\n",
       " 136620,\n",
       " 136994,\n",
       " 137141,\n",
       " 138000,\n",
       " 138350,\n",
       " 138600,\n",
       " 140000,\n",
       " 140250,\n",
       " 140400,\n",
       " 141300,\n",
       " 144000,\n",
       " 144854,\n",
       " 145000,\n",
       " 146000,\n",
       " 147000,\n",
       " 147800,\n",
       " 148000,\n",
       " 150000,\n",
       " 150075,\n",
       " 150260,\n",
       " 151000,\n",
       " 152000,\n",
       " 152500,\n",
       " 153000,\n",
       " 154000,\n",
       " 154600,\n",
       " 155000,\n",
       " 156600,\n",
       " 157000,\n",
       " 158200,\n",
       " 159000,\n",
       " 159500,\n",
       " 160000,\n",
       " 160080,\n",
       " 161342,\n",
       " 164000,\n",
       " 164996,\n",
       " 165000,\n",
       " 165220,\n",
       " 165400,\n",
       " 167000,\n",
       " 167875,\n",
       " 168000,\n",
       " 170000,\n",
       " 174000,\n",
       " 175000,\n",
       " 175100,\n",
       " 176000,\n",
       " 177000,\n",
       " 180000,\n",
       " 181940,\n",
       " 183600,\n",
       " 184700,\n",
       " 185000,\n",
       " 185100,\n",
       " 188000,\n",
       " 189650,\n",
       " 190000,\n",
       " 190200,\n",
       " 192400,\n",
       " 192564,\n",
       " 192600,\n",
       " 195000,\n",
       " 200000,\n",
       " 200100,\n",
       " 205300,\n",
       " 206699,\n",
       " 208775,\n",
       " 209100,\n",
       " 210000,\n",
       " 211500,\n",
       " 213120,\n",
       " 214000,\n",
       " 215300,\n",
       " 216000,\n",
       " 220000,\n",
       " 220110,\n",
       " 224000,\n",
       " 225000,\n",
       " 230000,\n",
       " 235000,\n",
       " 240000,\n",
       " 241000,\n",
       " 242000,\n",
       " 243900,\n",
       " 250000,\n",
       " 256000,\n",
       " 260000,\n",
       " 266400,\n",
       " 270000,\n",
       " 276000,\n",
       " 299000,\n",
       " 300000,\n",
       " 324000,\n",
       " 325000,\n",
       " 380000,\n",
       " 400000,\n",
       " 405000,\n",
       " 412000,\n",
       " 416000,\n",
       " 420000,\n",
       " 423000,\n",
       " 435000,\n",
       " 450000,\n",
       " 600000,\n",
       " 700000,\n",
       " 720000,\n",
       " 1200000,\n",
       " 1250000,\n",
       " 1335000,\n",
       " 1400000,\n",
       " 1450000,\n",
       " 1600000,\n",
       " 1672000,\n",
       " 1799997,\n",
       " 2100000,\n",
       " 2200000,\n",
       " 2250000,\n",
       " 2400000,\n",
       " 2500000,\n",
       " 3000000,\n",
       " 4000000,\n",
       " 4450000,\n",
       " 4900000,\n",
       " 6000000,\n",
       " 7000000,\n",
       " 8500000,\n",
       " 11000000,\n",
       " 30400000]"
      ]
     },
     "execution_count": 17,
     "metadata": {},
     "output_type": "execute_result"
    }
   ],
   "source": [
    "sorted(clean_salary_data['salary'].unique())"
   ]
  },
  {
   "cell_type": "code",
   "execution_count": 18,
   "id": "e1ac748a",
   "metadata": {},
   "outputs": [],
   "source": [
    "# Highest value appears to be $30.4 mil, I doubt it's an error. Likely a director position or executive level or\n",
    "# is in another currency other than USD.\n",
    "# Lowest is $4k, likely a freelander or contract, doesn't appear to be a mistype or anything, no further cleaning"
   ]
  },
  {
   "cell_type": "code",
   "execution_count": 19,
   "id": "b75dc729",
   "metadata": {},
   "outputs": [
    {
     "data": {
      "text/plain": [
       "array(['EUR', 'USD', 'GBP', 'HUF', 'INR', 'JPY', 'CNY', 'MXN', 'CAD',\n",
       "       'DKK', 'PLN', 'SGD', 'CLP', 'BRL', 'TRY', 'AUD', 'CHF'],\n",
       "      dtype=object)"
      ]
     },
     "execution_count": 19,
     "metadata": {},
     "output_type": "execute_result"
    }
   ],
   "source": [
    "clean_salary_data['salary_currency'].unique()"
   ]
  },
  {
   "cell_type": "code",
   "execution_count": 20,
   "id": "2666ba5c",
   "metadata": {},
   "outputs": [],
   "source": [
    "# Acronyms:\n",
    "# EUR - Euro\n",
    "# USD - United Sates Dollar\n",
    "# GBP - Pound sterling\n",
    "# HUF - Hungarian forint\n",
    "# INR - Indian rupee\n",
    "# JPY - Japanese yen\n",
    "# CNY - Chinese Yuan \n",
    "# MXN - Mexican peso\n",
    "# CAD - Canadian dollar\n",
    "# DKK - Danish krone\n",
    "# PLN - Polish złoty\n",
    "# SGD - Singapore dollar\n",
    "# CLP - Chilean peso\n",
    "# BRL - Brazilian real\n",
    "# TRY - Turkish lira\n",
    "# AUD - Australian dollar\n",
    "# CHF - Swiss franc\n",
    "# Found these are are legitimate forms of currency and no mistypes, no further cleaning needed "
   ]
  },
  {
   "cell_type": "code",
   "execution_count": 21,
   "id": "6ad141ee",
   "metadata": {},
   "outputs": [
    {
     "data": {
      "text/plain": [
       "[2859,\n",
       " 4000,\n",
       " 5409,\n",
       " 5679,\n",
       " 5707,\n",
       " 5882,\n",
       " 6072,\n",
       " 8000,\n",
       " 9272,\n",
       " 9466,\n",
       " 10000,\n",
       " 10354,\n",
       " 12000,\n",
       " 12103,\n",
       " 12901,\n",
       " 13400,\n",
       " 15966,\n",
       " 16228,\n",
       " 16904,\n",
       " 18000,\n",
       " 18053,\n",
       " 18442,\n",
       " 18907,\n",
       " 19609,\n",
       " 20000,\n",
       " 20171,\n",
       " 21637,\n",
       " 21669,\n",
       " 21844,\n",
       " 21983,\n",
       " 22611,\n",
       " 24000,\n",
       " 24342,\n",
       " 24823,\n",
       " 25000,\n",
       " 25532,\n",
       " 26005,\n",
       " 28016,\n",
       " 28369,\n",
       " 28399,\n",
       " 28476,\n",
       " 28609,\n",
       " 29751,\n",
       " 30428,\n",
       " 31615,\n",
       " 31875,\n",
       " 32974,\n",
       " 33511,\n",
       " 33808,\n",
       " 35590,\n",
       " 35735,\n",
       " 36259,\n",
       " 36643,\n",
       " 37236,\n",
       " 37300,\n",
       " 37825,\n",
       " 38400,\n",
       " 38776,\n",
       " 39263,\n",
       " 39916,\n",
       " 40000,\n",
       " 40038,\n",
       " 40189,\n",
       " 40481,\n",
       " 40570,\n",
       " 41689,\n",
       " 42000,\n",
       " 42197,\n",
       " 43331,\n",
       " 43966,\n",
       " 45391,\n",
       " 45618,\n",
       " 45760,\n",
       " 45807,\n",
       " 45896,\n",
       " 46597,\n",
       " 46759,\n",
       " 46809,\n",
       " 47282,\n",
       " 47899,\n",
       " 48000,\n",
       " 49268,\n",
       " 49461,\n",
       " 49646,\n",
       " 50000,\n",
       " 50180,\n",
       " 51064,\n",
       " 51321,\n",
       " 51519,\n",
       " 52000,\n",
       " 52351,\n",
       " 52396,\n",
       " 53192,\n",
       " 54000,\n",
       " 54094,\n",
       " 54238,\n",
       " 54742,\n",
       " 54957,\n",
       " 55000,\n",
       " 56000,\n",
       " 56256,\n",
       " 56738,\n",
       " 58000,\n",
       " 58035,\n",
       " 58255,\n",
       " 58894,\n",
       " 59102,\n",
       " 59303,\n",
       " 60000,\n",
       " 60757,\n",
       " 61300,\n",
       " 61467,\n",
       " 61896,\n",
       " 62000,\n",
       " 62649,\n",
       " 62651,\n",
       " 62726,\n",
       " 63711,\n",
       " 63810,\n",
       " 63831,\n",
       " 63900,\n",
       " 64849,\n",
       " 65000,\n",
       " 65013,\n",
       " 65438,\n",
       " 65949,\n",
       " 66022,\n",
       " 66265,\n",
       " 67000,\n",
       " 68147,\n",
       " 68428,\n",
       " 69000,\n",
       " 69336,\n",
       " 69741,\n",
       " 69999,\n",
       " 70000,\n",
       " 70139,\n",
       " 70500,\n",
       " 70912,\n",
       " 71444,\n",
       " 71786,\n",
       " 71982,\n",
       " 72000,\n",
       " 72212,\n",
       " 72500,\n",
       " 73000,\n",
       " 74000,\n",
       " 74130,\n",
       " 75000,\n",
       " 75774,\n",
       " 76833,\n",
       " 76940,\n",
       " 76958,\n",
       " 77364,\n",
       " 77684,\n",
       " 78000,\n",
       " 78526,\n",
       " 78791,\n",
       " 79039,\n",
       " 79197,\n",
       " 79833,\n",
       " 80000,\n",
       " 81000,\n",
       " 81666,\n",
       " 82500,\n",
       " 82528,\n",
       " 82744,\n",
       " 82900,\n",
       " 84900,\n",
       " 85000,\n",
       " 86703,\n",
       " 87000,\n",
       " 87425,\n",
       " 87738,\n",
       " 87932,\n",
       " 88654,\n",
       " 89294,\n",
       " 90000,\n",
       " 90320,\n",
       " 90700,\n",
       " 90734,\n",
       " 91000,\n",
       " 91237,\n",
       " 91614,\n",
       " 93000,\n",
       " 93150,\n",
       " 93427,\n",
       " 93700,\n",
       " 94564,\n",
       " 94665,\n",
       " 95550,\n",
       " 95746,\n",
       " 96113,\n",
       " 96282,\n",
       " 98000,\n",
       " 98158,\n",
       " 99000,\n",
       " 99050,\n",
       " 99100,\n",
       " 99360,\n",
       " 99703,\n",
       " 100000,\n",
       " 100800,\n",
       " 101570,\n",
       " 102100,\n",
       " 102839,\n",
       " 103000,\n",
       " 103160,\n",
       " 103691,\n",
       " 104702,\n",
       " 104890,\n",
       " 105000,\n",
       " 105400,\n",
       " 106000,\n",
       " 106260,\n",
       " 108800,\n",
       " 109000,\n",
       " 109024,\n",
       " 109280,\n",
       " 110000,\n",
       " 110037,\n",
       " 110500,\n",
       " 110925,\n",
       " 111775,\n",
       " 112000,\n",
       " 112300,\n",
       " 112872,\n",
       " 112900,\n",
       " 113000,\n",
       " 113476,\n",
       " 114047,\n",
       " 115000,\n",
       " 115500,\n",
       " 115934,\n",
       " 116000,\n",
       " 116150,\n",
       " 116914,\n",
       " 117104,\n",
       " 117789,\n",
       " 118000,\n",
       " 118187,\n",
       " 119059,\n",
       " 120000,\n",
       " 120160,\n",
       " 120600,\n",
       " 122346,\n",
       " 123000,\n",
       " 124190,\n",
       " 124333,\n",
       " 125000,\n",
       " 126000,\n",
       " 126500,\n",
       " 127221,\n",
       " 128875,\n",
       " 129000,\n",
       " 130000,\n",
       " 130026,\n",
       " 130800,\n",
       " 132000,\n",
       " 132320,\n",
       " 135000,\n",
       " 136000,\n",
       " 136600,\n",
       " 136620,\n",
       " 136994,\n",
       " 137141,\n",
       " 138000,\n",
       " 138350,\n",
       " 138600,\n",
       " 140000,\n",
       " 140250,\n",
       " 140400,\n",
       " 141300,\n",
       " 141846,\n",
       " 144000,\n",
       " 144854,\n",
       " 145000,\n",
       " 146000,\n",
       " 147000,\n",
       " 147800,\n",
       " 148261,\n",
       " 150000,\n",
       " 150075,\n",
       " 150260,\n",
       " 151000,\n",
       " 152000,\n",
       " 152500,\n",
       " 153000,\n",
       " 153667,\n",
       " 154000,\n",
       " 154600,\n",
       " 155000,\n",
       " 156600,\n",
       " 157000,\n",
       " 158200,\n",
       " 159000,\n",
       " 160000,\n",
       " 160080,\n",
       " 161342,\n",
       " 162674,\n",
       " 164000,\n",
       " 164996,\n",
       " 165000,\n",
       " 165220,\n",
       " 165400,\n",
       " 167000,\n",
       " 167875,\n",
       " 168000,\n",
       " 170000,\n",
       " 173762,\n",
       " 174000,\n",
       " 175000,\n",
       " 175100,\n",
       " 176000,\n",
       " 177000,\n",
       " 180000,\n",
       " 181940,\n",
       " 183228,\n",
       " 183600,\n",
       " 184700,\n",
       " 185000,\n",
       " 185100,\n",
       " 187442,\n",
       " 188000,\n",
       " 189650,\n",
       " 190000,\n",
       " 190200,\n",
       " 192400,\n",
       " 192564,\n",
       " 192600,\n",
       " 195000,\n",
       " 196979,\n",
       " 200000,\n",
       " 200100,\n",
       " 205300,\n",
       " 206699,\n",
       " 208775,\n",
       " 209100,\n",
       " 210000,\n",
       " 211500,\n",
       " 213120,\n",
       " 214000,\n",
       " 215300,\n",
       " 216000,\n",
       " 220000,\n",
       " 220110,\n",
       " 224000,\n",
       " 225000,\n",
       " 230000,\n",
       " 235000,\n",
       " 240000,\n",
       " 241000,\n",
       " 242000,\n",
       " 243900,\n",
       " 250000,\n",
       " 256000,\n",
       " 260000,\n",
       " 266400,\n",
       " 270000,\n",
       " 276000,\n",
       " 324000,\n",
       " 325000,\n",
       " 380000,\n",
       " 405000,\n",
       " 412000,\n",
       " 416000,\n",
       " 423000,\n",
       " 450000,\n",
       " 600000]"
      ]
     },
     "execution_count": 21,
     "metadata": {},
     "output_type": "execute_result"
    }
   ],
   "source": [
    "sorted(clean_salary_data['salary_in_usd'].unique())"
   ]
  },
  {
   "cell_type": "code",
   "execution_count": 22,
   "id": "2b557bd2",
   "metadata": {},
   "outputs": [],
   "source": [
    "# Lowest is $2,859 - likely freelance or contract\n",
    "# Highest is $600,000 - likely a director or executive level. \n",
    "# All seem within normal range of USD with no obvious outliers, no further cleaning needed on this column"
   ]
  },
  {
   "cell_type": "code",
   "execution_count": 23,
   "id": "6330845b",
   "metadata": {},
   "outputs": [
    {
     "data": {
      "text/plain": [
       "array(['DE', 'JP', 'GB', 'HN', 'US', 'HU', 'NZ', 'FR', 'IN', 'PK', 'PL',\n",
       "       'PT', 'CN', 'GR', 'AE', 'NL', 'MX', 'CA', 'AT', 'NG', 'PH', 'ES',\n",
       "       'DK', 'RU', 'IT', 'HR', 'BG', 'SG', 'BR', 'IQ', 'VN', 'BE', 'UA',\n",
       "       'MT', 'CL', 'RO', 'IR', 'CO', 'MD', 'KE', 'SI', 'HK', 'TR', 'RS',\n",
       "       'PR', 'LU', 'JE', 'CZ', 'AR', 'DZ', 'TN', 'MY', 'EE', 'AU', 'BO',\n",
       "       'IE', 'CH'], dtype=object)"
      ]
     },
     "execution_count": 23,
     "metadata": {},
     "output_type": "execute_result"
    }
   ],
   "source": [
    "clean_salary_data['employee_residence'].unique()"
   ]
  },
  {
   "cell_type": "code",
   "execution_count": 24,
   "id": "8767a6e9",
   "metadata": {},
   "outputs": [],
   "source": [
    "# quick overview, all are two letters and in uniform to the ISO 3166 country code, no further cleaning needed"
   ]
  },
  {
   "cell_type": "code",
   "execution_count": 25,
   "id": "35a584dd",
   "metadata": {},
   "outputs": [
    {
     "data": {
      "text/plain": [
       "array([  0,  50, 100])"
      ]
     },
     "execution_count": 25,
     "metadata": {},
     "output_type": "execute_result"
    }
   ],
   "source": [
    "clean_salary_data['remote_ratio'].unique()"
   ]
  },
  {
   "cell_type": "code",
   "execution_count": 26,
   "id": "4d6f8e05",
   "metadata": {},
   "outputs": [],
   "source": [
    "# only three categories for remote work:\n",
    "# 0 - remote work is < 20%, considered in office fully\n",
    "# 50 - hybrid\n",
    "# 100 - > 80% remote, considered fully remote\n",
    "# no outliers noted, no further cleaning needed"
   ]
  },
  {
   "cell_type": "code",
   "execution_count": 27,
   "id": "8d92fb1f",
   "metadata": {},
   "outputs": [
    {
     "data": {
      "text/plain": [
       "array(['DE', 'JP', 'GB', 'HN', 'US', 'HU', 'NZ', 'FR', 'IN', 'PK', 'CN',\n",
       "       'GR', 'AE', 'NL', 'MX', 'CA', 'AT', 'NG', 'ES', 'PT', 'DK', 'IT',\n",
       "       'HR', 'LU', 'PL', 'SG', 'RO', 'IQ', 'BR', 'BE', 'UA', 'IL', 'RU',\n",
       "       'MT', 'CL', 'IR', 'CO', 'MD', 'KE', 'SI', 'CH', 'VN', 'AS', 'TR',\n",
       "       'CZ', 'DZ', 'EE', 'MY', 'AU', 'IE'], dtype=object)"
      ]
     },
     "execution_count": 27,
     "metadata": {},
     "output_type": "execute_result"
    }
   ],
   "source": [
    "clean_salary_data['company_location'].unique()"
   ]
  },
  {
   "cell_type": "code",
   "execution_count": 28,
   "id": "e9fc0431",
   "metadata": {},
   "outputs": [
    {
     "data": {
      "text/plain": [
       "array(['L', 'S', 'M'], dtype=object)"
      ]
     },
     "execution_count": 28,
     "metadata": {},
     "output_type": "execute_result"
    }
   ],
   "source": [
    "clean_salary_data['company_size'].unique()"
   ]
  },
  {
   "cell_type": "code",
   "execution_count": 29,
   "id": "f426dbc4",
   "metadata": {},
   "outputs": [],
   "source": [
    "# onnly three categories for company size:\n",
    "# S - 'small', < 50 employees\n",
    "# M - 'medium', 50 - 250 employees\n",
    "# L - 'large', > 250 empoloyees"
   ]
  },
  {
   "cell_type": "code",
   "execution_count": 30,
   "id": "f63a37b3",
   "metadata": {},
   "outputs": [],
   "source": [
    "# general once over for anything we might be missing"
   ]
  },
  {
   "cell_type": "code",
   "execution_count": 31,
   "id": "ffdde6ed",
   "metadata": {},
   "outputs": [
    {
     "data": {
      "text/plain": [
       "False"
      ]
     },
     "execution_count": 31,
     "metadata": {},
     "output_type": "execute_result"
    }
   ],
   "source": [
    "clean_salary_data.isnull().values.any()"
   ]
  },
  {
   "cell_type": "markdown",
   "id": "82372c21",
   "metadata": {},
   "source": [
    "# # EDA SECTION"
   ]
  },
  {
   "cell_type": "code",
   "execution_count": 33,
   "id": "16c1e81d",
   "metadata": {},
   "outputs": [
    {
     "name": "stdout",
     "output_type": "stream",
     "text": [
      "<class 'pandas.core.frame.DataFrame'>\n",
      "RangeIndex: 607 entries, 0 to 606\n",
      "Data columns (total 11 columns):\n",
      " #   Column              Non-Null Count  Dtype \n",
      "---  ------              --------------  ----- \n",
      " 0   work_year           607 non-null    int64 \n",
      " 1   experience_level    607 non-null    object\n",
      " 2   employment_type     607 non-null    object\n",
      " 3   job_title           607 non-null    object\n",
      " 4   salary              607 non-null    int64 \n",
      " 5   salary_currency     607 non-null    object\n",
      " 6   salary_in_usd       607 non-null    int64 \n",
      " 7   employee_residence  607 non-null    object\n",
      " 8   remote_ratio        607 non-null    int64 \n",
      " 9   company_location    607 non-null    object\n",
      " 10  company_size        607 non-null    object\n",
      "dtypes: int64(4), object(7)\n",
      "memory usage: 52.3+ KB\n"
     ]
    }
   ],
   "source": [
    "#let's get a general once over again of the data and what we are looking at \n",
    "clean_salary_data.info()"
   ]
  },
  {
   "cell_type": "code",
   "execution_count": 35,
   "id": "163250d1",
   "metadata": {},
   "outputs": [],
   "source": [
    "# MI - mid-level / intermediate\n",
    "# SE - senior-level\n",
    "# EN - entry-level / junior\n",
    "# EX - expert-level / Director\n",
    "# I'm more interested in the EN "
   ]
  },
  {
   "cell_type": "code",
   "execution_count": 34,
   "id": "cce2ac1c",
   "metadata": {
    "scrolled": false
   },
   "outputs": [
    {
     "data": {
      "image/png": "[encoded data removed]",
      "text/plain": [
       "<Figure size 640x480 with 1 Axes>"
      ]
     },
     "metadata": {},
     "output_type": "display_data"
    }
   ],
   "source": [
    "#so what i'm really curious about is job titles, salaries, and level of experience to get a better idea of them\n",
    "explvlhist = plt.hist(clean_salary_data['experience_level'])\n",
    "plt.show()"
   ]
  },
  {
   "cell_type": "code",
   "execution_count": 39,
   "id": "33578747",
   "metadata": {
    "scrolled": false
   },
   "outputs": [
    {
     "data": {
      "image/png": "[encoded data removed]",
      "text/plain": [
       "<Figure size 640x480 with 1 Axes>"
      ]
     },
     "metadata": {},
     "output_type": "display_data"
    }
   ],
   "source": [
    "salhist = plt.hist(clean_salary_data['salary_in_usd'])\n",
    "plt.show()"
   ]
  },
  {
   "cell_type": "code",
   "execution_count": 57,
   "id": "fc95600d",
   "metadata": {},
   "outputs": [
    {
     "name": "stdout",
     "output_type": "stream",
     "text": [
      "count       607.000000\n",
      "mean     112297.869852\n",
      "std       70957.259411\n",
      "min        2859.000000\n",
      "25%       62726.000000\n",
      "50%      101570.000000\n",
      "75%      150000.000000\n",
      "max      600000.000000\n",
      "Name: salary_in_usd, dtype: float64\n"
     ]
    }
   ],
   "source": [
    "salbasicstats = clean_salary_data['salary_in_usd'].describe()\n",
    "print(salbasicstats)"
   ]
  },
  {
   "cell_type": "code",
   "execution_count": 44,
   "id": "ec548f6a",
   "metadata": {},
   "outputs": [
    {
     "name": "stderr",
     "output_type": "stream",
     "text": [
      "/var/folders/2r/1ydm5z_940ngn4rb5wwtjkq40000gn/T/ipykernel_52274/393476950.py:1: FutureWarning: The default value of numeric_only in DataFrame.corr is deprecated. In a future version, it will default to False. Select only valid columns or specify the value of numeric_only to silence this warning.\n",
      "  clean_salary_data.corr()\n"
     ]
    },
    {
     "data": {
      "text/html": [
       "<div>\n",
       "<style scoped>\n",
       "    .dataframe tbody tr th:only-of-type {\n",
       "        vertical-align: middle;\n",
       "    }\n",
       "\n",
       "    .dataframe tbody tr th {\n",
       "        vertical-align: top;\n",
       "    }\n",
       "\n",
       "    .dataframe thead th {\n",
       "        text-align: right;\n",
       "    }\n",
       "</style>\n",
       "<table border=\"1\" class=\"dataframe\">\n",
       "  <thead>\n",
       "    <tr style=\"text-align: right;\">\n",
       "      <th></th>\n",
       "      <th>work_year</th>\n",
       "      <th>salary</th>\n",
       "      <th>salary_in_usd</th>\n",
       "      <th>remote_ratio</th>\n",
       "    </tr>\n",
       "  </thead>\n",
       "  <tbody>\n",
       "    <tr>\n",
       "      <th>work_year</th>\n",
       "      <td>1.000000</td>\n",
       "      <td>-0.087577</td>\n",
       "      <td>0.170493</td>\n",
       "      <td>0.076314</td>\n",
       "    </tr>\n",
       "    <tr>\n",
       "      <th>salary</th>\n",
       "      <td>-0.087577</td>\n",
       "      <td>1.000000</td>\n",
       "      <td>-0.083906</td>\n",
       "      <td>-0.014608</td>\n",
       "    </tr>\n",
       "    <tr>\n",
       "      <th>salary_in_usd</th>\n",
       "      <td>0.170493</td>\n",
       "      <td>-0.083906</td>\n",
       "      <td>1.000000</td>\n",
       "      <td>0.132122</td>\n",
       "    </tr>\n",
       "    <tr>\n",
       "      <th>remote_ratio</th>\n",
       "      <td>0.076314</td>\n",
       "      <td>-0.014608</td>\n",
       "      <td>0.132122</td>\n",
       "      <td>1.000000</td>\n",
       "    </tr>\n",
       "  </tbody>\n",
       "</table>\n",
       "</div>"
      ],
      "text/plain": [
       "               work_year    salary  salary_in_usd  remote_ratio\n",
       "work_year       1.000000 -0.087577       0.170493      0.076314\n",
       "salary         -0.087577  1.000000      -0.083906     -0.014608\n",
       "salary_in_usd   0.170493 -0.083906       1.000000      0.132122\n",
       "remote_ratio    0.076314 -0.014608       0.132122      1.000000"
      ]
     },
     "execution_count": 44,
     "metadata": {},
     "output_type": "execute_result"
    }
   ],
   "source": [
    "clean_salary_data.corr()"
   ]
  },
  {
   "cell_type": "code",
   "execution_count": 45,
   "id": "505e11dc",
   "metadata": {},
   "outputs": [
    {
     "data": {
      "image/png": "[encoded data removed]",
      "text/plain": [
       "<Figure size 1000x1000 with 20 Axes>"
      ]
     },
     "metadata": {},
     "output_type": "display_data"
    }
   ],
   "source": [
    "sns.pairplot(clean_salary_data)\n",
    "plt.show()"
   ]
  },
  {
   "cell_type": "code",
   "execution_count": 46,
   "id": "ed3e2ddd",
   "metadata": {},
   "outputs": [
    {
     "name": "stderr",
     "output_type": "stream",
     "text": [
      "/var/folders/2r/1ydm5z_940ngn4rb5wwtjkq40000gn/T/ipykernel_52274/678102786.py:1: FutureWarning: The default value of numeric_only in DataFrame.corr is deprecated. In a future version, it will default to False. Select only valid columns or specify the value of numeric_only to silence this warning.\n",
      "  cleansalarycorr = clean_salary_data.corr()\n"
     ]
    },
    {
     "data": {
      "image/png": "[encoded data removed]",
      "text/plain": [
       "<Figure size 640x480 with 2 Axes>"
      ]
     },
     "metadata": {},
     "output_type": "display_data"
    }
   ],
   "source": [
    "cleansalarycorr = clean_salary_data.corr()\n",
    "sns.heatmap(cleansalarycorr)\n",
    "plt.show()"
   ]
  },
  {
   "cell_type": "code",
   "execution_count": 49,
   "id": "bf1df321",
   "metadata": {},
   "outputs": [
    {
     "data": {
      "image/png": "[encoded data removed]",
      "text/plain": [
       "<Figure size 640x480 with 1 Axes>"
      ]
     },
     "metadata": {},
     "output_type": "display_data"
    }
   ],
   "source": [
    "_ = sns.scatterplot(data = clean_salary_data, x=clean_salary_data['experience_level'], y=clean_salary_data['salary_in_usd'])"
   ]
  },
  {
   "cell_type": "code",
   "execution_count": 53,
   "id": "b81fa630",
   "metadata": {},
   "outputs": [],
   "source": [
    "import scipy.stats"
   ]
  },
  {
   "cell_type": "code",
   "execution_count": 59,
   "id": "93d5f72b",
   "metadata": {},
   "outputs": [],
   "source": [
    "x = clean_salary_data['remote_ratio']\n",
    "y = clean_salary_data['salary_in_usd']"
   ]
  },
  {
   "cell_type": "code",
   "execution_count": 60,
   "id": "581d6c55",
   "metadata": {},
   "outputs": [],
   "source": [
    "_ = np.corrcoef(x, y)"
   ]
  },
  {
   "cell_type": "code",
   "execution_count": 61,
   "id": "0c77ccb5",
   "metadata": {},
   "outputs": [
    {
     "name": "stdout",
     "output_type": "stream",
     "text": [
      "[[1.         0.13212234]\n",
      " [0.13212234 1.        ]]\n"
     ]
    }
   ],
   "source": [
    "print(_)"
   ]
  },
  {
   "cell_type": "code",
   "execution_count": 62,
   "id": "5bbdc604",
   "metadata": {},
   "outputs": [
    {
     "data": {
      "text/plain": [
       "PearsonRResult(statistic=0.13212233539422102, pvalue=0.001103363379368483)"
      ]
     },
     "execution_count": 62,
     "metadata": {},
     "output_type": "execute_result"
    }
   ],
   "source": [
    "scipy.stats.pearsonr(x, y)"
   ]
  },
  {
   "cell_type": "code",
   "execution_count": null,
   "id": "f5576282",
   "metadata": {},
   "outputs": [],
   "source": []
  }
 ],
 "metadata": {
  "kernelspec": {
   "display_name": "Python 3 (ipykernel)",
   "language": "python",
   "name": "python3"
  },
  "language_info": {
   "codemirror_mode": {
    "name": "ipython",
    "version": 3
   },
   "file_extension": ".py",
   "mimetype": "text/x-python",
   "name": "python",
   "nbconvert_exporter": "python",
   "pygments_lexer": "ipython3",
   "version": "3.10.9"
  }
 },
 "nbformat": 4,
 "nbformat_minor": 5
}
